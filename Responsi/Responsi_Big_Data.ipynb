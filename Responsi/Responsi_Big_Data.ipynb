{
  "nbformat": 4,
  "nbformat_minor": 0,
  "metadata": {
    "colab": {
      "provenance": [],
      "authorship_tag": "ABX9TyNul1LOVxjTJ4+kwrPF18Zu",
      "include_colab_link": true
    },
    "kernelspec": {
      "name": "python3",
      "display_name": "Python 3"
    },
    "language_info": {
      "name": "python"
    }
  },
  "cells": [
    {
      "cell_type": "markdown",
      "metadata": {
        "id": "view-in-github",
        "colab_type": "text"
      },
      "source": [
        "<a href=\"https://colab.research.google.com/github/fzlfade/Praktikum-PBO/blob/main/Responsi/Responsi_Big_Data.ipynb\" target=\"_parent\"><img src=\"https://colab.research.google.com/assets/colab-badge.svg\" alt=\"Open In Colab\"/></a>"
      ]
    },
    {
      "cell_type": "code",
      "execution_count": 1,
      "metadata": {
        "colab": {
          "base_uri": "https://localhost:8080/"
        },
        "id": "ePbXda8cj5i-",
        "outputId": "bea20dba-9120-4949-85bf-af66bb460cb5"
      },
      "outputs": [
        {
          "output_type": "stream",
          "name": "stdout",
          "text": [
            "Collecting pyspark\n",
            "  Downloading pyspark-3.5.3.tar.gz (317.3 MB)\n",
            "\u001b[2K     \u001b[90m━━━━━━━━━━━━━━━━━━━━━━━━━━━━━━━━━━━━━━━━\u001b[0m \u001b[32m317.3/317.3 MB\u001b[0m \u001b[31m2.3 MB/s\u001b[0m eta \u001b[36m0:00:00\u001b[0m\n",
            "\u001b[?25h  Preparing metadata (setup.py) ... \u001b[?25l\u001b[?25hdone\n",
            "Requirement already satisfied: py4j==0.10.9.7 in /usr/local/lib/python3.10/dist-packages (from pyspark) (0.10.9.7)\n",
            "Building wheels for collected packages: pyspark\n",
            "  Building wheel for pyspark (setup.py) ... \u001b[?25l\u001b[?25hdone\n",
            "  Created wheel for pyspark: filename=pyspark-3.5.3-py2.py3-none-any.whl size=317840625 sha256=8cf33f75c3714473fc9dc56c92d943787a29fe2f08020ff148a034c49a9861da\n",
            "  Stored in directory: /root/.cache/pip/wheels/1b/3a/92/28b93e2fbfdbb07509ca4d6f50c5e407f48dce4ddbda69a4ab\n",
            "Successfully built pyspark\n",
            "Installing collected packages: pyspark\n",
            "Successfully installed pyspark-3.5.3\n"
          ]
        }
      ],
      "source": [
        "pip install pyspark"
      ]
    },
    {
      "cell_type": "code",
      "source": [
        "from pyspark.sql import SparkSession\n",
        "from pyspark.sql import functions as F\n",
        "\n",
        "\n",
        "spark = SparkSession.builder.appName('Responsi').getOrCreate()\n",
        "\n",
        "data = [('P001', 'Product A', 'Electronics',10,200,'2022-01-10'),\n",
        "        ('P002', 'Product B', 'Electronics',30,150,'2022-03-11'),\n",
        "        ('P001', 'Product C', 'Clothing',20,100,'2022-02-10'),\n",
        "        ('P001', 'Product D', 'Clothing',15,120,'2022-02-12'),\n",
        "        ('P001', 'Product E', 'Kitchen',25,90,'2022-04-13'),\n",
        "        ('P001', 'Product F', 'Kitchen',5,300,'2022-01-14')]\n",
        "columns = ['ProductID', 'ProductName', 'Category','Quantity','Price','Date']\n",
        "\n",
        "df = spark.createDataFrame(data, schema=columns)\n",
        "df.show()\n",
        "\n",
        "#Nomor 1\n",
        "df = df.withColumn('Revenue', df['Quantity'] * df['Price'])\n",
        "\n",
        "df = df.withColumn('Month', F.date_format(F.col('Date'), 'yyyy-MM'))\n",
        "\n",
        "result = df.groupBy('Category', 'Month') \\\n",
        "           .agg(F.sum('Revenue').alias('Total')) \\\n",
        "           .orderBy('Month', 'Category')\n",
        "\n",
        "result.show()\n",
        "\n",
        "#Nomor 2\n",
        "maxPerCategory = df.groupBy('Category') \\\n",
        "                  .agg(F.max('Price').alias('PriceMax'))  \\\n",
        "                  .orderBy('PriceMax')\n",
        "maxPerCategory.show()\n",
        "\n",
        "#Nomor 3\n",
        "# Menghitung pendapatan total untuk setiap kategori per bulan dan mengurutkan hasilnya\n",
        "result = df.groupBy('Month', 'Category') \\\n",
        "           .agg(F.sum('Revenue').alias('TotalRevenue')) \\\n",
        "           .orderBy('Month', 'Category')\n",
        "result.show()\n",
        "\n"
      ],
      "metadata": {
        "colab": {
          "base_uri": "https://localhost:8080/"
        },
        "id": "j9JumEt3lDhE",
        "outputId": "12fd8713-f7cb-4b5f-d5b7-d18c39b683c0"
      },
      "execution_count": 41,
      "outputs": [
        {
          "output_type": "stream",
          "name": "stdout",
          "text": [
            "+---------+-----------+-----------+--------+-----+----------+\n",
            "|ProductID|ProductName|   Category|Quantity|Price|      Date|\n",
            "+---------+-----------+-----------+--------+-----+----------+\n",
            "|     P001|  Product A|Electronics|      10|  200|2022-01-10|\n",
            "|     P002|  Product B|Electronics|      30|  150|2022-03-11|\n",
            "|     P001|  Product C|   Clothing|      20|  100|2022-02-10|\n",
            "|     P001|  Product D|   Clothing|      15|  120|2022-02-12|\n",
            "|     P001|  Product E|    Kitchen|      25|   90|2022-04-13|\n",
            "|     P001|  Product F|    Kitchen|       5|  300|2022-01-14|\n",
            "+---------+-----------+-----------+--------+-----+----------+\n",
            "\n",
            "+-----------+-------+-----+\n",
            "|   Category|  Month|Total|\n",
            "+-----------+-------+-----+\n",
            "|Electronics|2022-01| 2000|\n",
            "|    Kitchen|2022-01| 1500|\n",
            "|   Clothing|2022-02| 3800|\n",
            "|Electronics|2022-03| 4500|\n",
            "|    Kitchen|2022-04| 2250|\n",
            "+-----------+-------+-----+\n",
            "\n",
            "+-----------+--------+\n",
            "|   Category|PriceMax|\n",
            "+-----------+--------+\n",
            "|   Clothing|     120|\n",
            "|Electronics|     200|\n",
            "|    Kitchen|     300|\n",
            "+-----------+--------+\n",
            "\n",
            "+-------+-----------+------------+\n",
            "|  Month|   Category|TotalRevenue|\n",
            "+-------+-----------+------------+\n",
            "|2022-01|Electronics|        2000|\n",
            "|2022-01|    Kitchen|        1500|\n",
            "|2022-02|   Clothing|        3800|\n",
            "|2022-03|Electronics|        4500|\n",
            "|2022-04|    Kitchen|        2250|\n",
            "+-------+-----------+------------+\n",
            "\n"
          ]
        }
      ]
    },
    {
      "cell_type": "code",
      "source": [],
      "metadata": {
        "id": "4T9KW26XmxZD"
      },
      "execution_count": 9,
      "outputs": []
    }
  ]
}